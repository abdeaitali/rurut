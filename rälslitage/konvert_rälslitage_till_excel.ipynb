{
 "cells": [
  {
   "cell_type": "markdown",
   "metadata": {},
   "source": [
    "# Konvertera csv filer till excel"
   ]
  },
  {
   "cell_type": "markdown",
   "metadata": {},
   "source": [
    "We start by reading data from all the bandelar 111, 113, 116-119 with filenames in the form of RPM Rälslitage i kurva_111.csv. We then combine them into one dataframe."
   ]
  },
  {
   "cell_type": "code",
   "execution_count": 1,
   "metadata": {},
   "outputs": [
    {
     "name": "stdout",
     "output_type": "stream",
     "text": [
      "Successfully loaded RPM Rälslitage i kurva_111.csv into DataFrame with key '111'\n",
      "Successfully loaded RPM Rälslitage i kurva_113.csv into DataFrame with key '113'\n",
      "Successfully loaded RPM Rälslitage i kurva_116.csv into DataFrame with key '116'\n",
      "Successfully loaded RPM Rälslitage i kurva_117.csv into DataFrame with key '117'\n",
      "Successfully loaded RPM Rälslitage i kurva_118.csv into DataFrame with key '118'\n",
      "Successfully loaded RPM Rälslitage i kurva_119.csv into DataFrame with key '119'\n"
     ]
    }
   ],
   "source": [
    "import pandas as pd  # type: ignore\n",
    "import glob\n",
    "\n",
    "# Step 1: Define the file path and pattern\n",
    "file_pattern = \"RPM Rälslitage i kurva_*.csv\"\n",
    "\n",
    "# Step 2: Read all files matching the pattern\n",
    "file_list = glob.glob(file_pattern)\n",
    "\n",
    "# Step 3: Create a dictionary to store DataFrames\n",
    "dataframes = {}\n",
    "\n",
    "for file in file_list:\n",
    "    try:\n",
    "        # Extract a unique key for each DataFrame (e.g., from the filename)\n",
    "        key = file.split(\"_\")[-1].replace(\".csv\", \"\")  # Extract part of the filename for identification\n",
    "        # Read the CSV file into a DataFrame with ; as the delimiter\n",
    "        df = pd.read_csv(file, delimiter=';', encoding='ISO-8859-1')  # Adjust encoding if needed\n",
    "        # Store the DataFrame in the dictionary\n",
    "        dataframes[key] = df\n",
    "        print(f\"Successfully loaded {file} into DataFrame with key '{key}'\")\n",
    "    except Exception as e:\n",
    "        print(f\"Error reading {file}: {e}\")"
   ]
  },
  {
   "cell_type": "code",
   "execution_count": 2,
   "metadata": {},
   "outputs": [
    {
     "data": {
      "text/html": [
       "<div>\n",
       "<style scoped>\n",
       "    .dataframe tbody tr th:only-of-type {\n",
       "        vertical-align: middle;\n",
       "    }\n",
       "\n",
       "    .dataframe tbody tr th {\n",
       "        vertical-align: top;\n",
       "    }\n",
       "\n",
       "    .dataframe thead th {\n",
       "        text-align: right;\n",
       "    }\n",
       "</style>\n",
       "<table border=\"1\" class=\"dataframe\">\n",
       "  <thead>\n",
       "    <tr style=\"text-align: right;\">\n",
       "      <th></th>\n",
       "      <th>0</th>\n",
       "      <th>1</th>\n",
       "      <th>2</th>\n",
       "      <th>3</th>\n",
       "      <th>4</th>\n",
       "    </tr>\n",
       "  </thead>\n",
       "  <tbody>\n",
       "    <tr>\n",
       "      <th>Bandel</th>\n",
       "      <td>111</td>\n",
       "      <td>111</td>\n",
       "      <td>111</td>\n",
       "      <td>111</td>\n",
       "      <td>111</td>\n",
       "    </tr>\n",
       "    <tr>\n",
       "      <th>Startläge</th>\n",
       "      <td>1541 + 604,0 m</td>\n",
       "      <td>1436 + 946,0 m</td>\n",
       "      <td>1538 + 92,0 m</td>\n",
       "      <td>1480 + 786,0 m</td>\n",
       "      <td>1477 + 245,0 m</td>\n",
       "    </tr>\n",
       "    <tr>\n",
       "      <th>Slutläge</th>\n",
       "      <td>1541 + 899,0 m</td>\n",
       "      <td>1436 + 981,0 m</td>\n",
       "      <td>1538 + 622,0 m</td>\n",
       "      <td>1481 + 135,86 m</td>\n",
       "      <td>1477 + 717,0 m</td>\n",
       "    </tr>\n",
       "    <tr>\n",
       "      <th>Spårnamn</th>\n",
       "      <td>E</td>\n",
       "      <td>E</td>\n",
       "      <td>E</td>\n",
       "      <td>E</td>\n",
       "      <td>E</td>\n",
       "    </tr>\n",
       "    <tr>\n",
       "      <th>Event Category</th>\n",
       "      <td>RPM Rälslitage i kurva</td>\n",
       "      <td>RPM Rälslitage i kurva</td>\n",
       "      <td>RPM Rälslitage i kurva</td>\n",
       "      <td>RPM Rälslitage i kurva</td>\n",
       "      <td>RPM Rälslitage i kurva</td>\n",
       "    </tr>\n",
       "    <tr>\n",
       "      <th>...</th>\n",
       "      <td>...</td>\n",
       "      <td>...</td>\n",
       "      <td>...</td>\n",
       "      <td>...</td>\n",
       "      <td>...</td>\n",
       "    </tr>\n",
       "    <tr>\n",
       "      <th>Medel Sidoslitage</th>\n",
       "      <td>NaN</td>\n",
       "      <td>NaN</td>\n",
       "      <td>NaN</td>\n",
       "      <td>NaN</td>\n",
       "      <td>NaN</td>\n",
       "    </tr>\n",
       "    <tr>\n",
       "      <th>Medel H</th>\n",
       "      <td>NaN</td>\n",
       "      <td>NaN</td>\n",
       "      <td>NaN</td>\n",
       "      <td>NaN</td>\n",
       "      <td>NaN</td>\n",
       "    </tr>\n",
       "    <tr>\n",
       "      <th>Medel Höjdslitage</th>\n",
       "      <td>NaN</td>\n",
       "      <td>NaN</td>\n",
       "      <td>NaN</td>\n",
       "      <td>NaN</td>\n",
       "      <td>NaN</td>\n",
       "    </tr>\n",
       "    <tr>\n",
       "      <th>Radie (meter)</th>\n",
       "      <td>NaN</td>\n",
       "      <td>NaN</td>\n",
       "      <td>NaN</td>\n",
       "      <td>NaN</td>\n",
       "      <td>NaN</td>\n",
       "    </tr>\n",
       "    <tr>\n",
       "      <th>Event ID</th>\n",
       "      <td>NaN</td>\n",
       "      <td>NaN</td>\n",
       "      <td>NaN</td>\n",
       "      <td>NaN</td>\n",
       "      <td>NaN</td>\n",
       "    </tr>\n",
       "  </tbody>\n",
       "</table>\n",
       "<p>94 rows × 5 columns</p>\n",
       "</div>"
      ],
      "text/plain": [
       "                                        0                       1  \\\n",
       "Bandel                                111                     111   \n",
       "Startläge                  1541 + 604,0 m          1436 + 946,0 m   \n",
       "Slutläge                   1541 + 899,0 m          1436 + 981,0 m   \n",
       "Spårnamn                                E                       E   \n",
       "Event Category     RPM Rälslitage i kurva  RPM Rälslitage i kurva   \n",
       "...                                   ...                     ...   \n",
       "Medel Sidoslitage                     NaN                     NaN   \n",
       "Medel H                               NaN                     NaN   \n",
       "Medel Höjdslitage                     NaN                     NaN   \n",
       "Radie (meter)                         NaN                     NaN   \n",
       "Event ID                              NaN                     NaN   \n",
       "\n",
       "                                        2                       3  \\\n",
       "Bandel                                111                     111   \n",
       "Startläge                   1538 + 92,0 m          1480 + 786,0 m   \n",
       "Slutläge                   1538 + 622,0 m         1481 + 135,86 m   \n",
       "Spårnamn                                E                       E   \n",
       "Event Category     RPM Rälslitage i kurva  RPM Rälslitage i kurva   \n",
       "...                                   ...                     ...   \n",
       "Medel Sidoslitage                     NaN                     NaN   \n",
       "Medel H                               NaN                     NaN   \n",
       "Medel Höjdslitage                     NaN                     NaN   \n",
       "Radie (meter)                         NaN                     NaN   \n",
       "Event ID                              NaN                     NaN   \n",
       "\n",
       "                                        4  \n",
       "Bandel                                111  \n",
       "Startläge                  1477 + 245,0 m  \n",
       "Slutläge                   1477 + 717,0 m  \n",
       "Spårnamn                                E  \n",
       "Event Category     RPM Rälslitage i kurva  \n",
       "...                                   ...  \n",
       "Medel Sidoslitage                     NaN  \n",
       "Medel H                               NaN  \n",
       "Medel Höjdslitage                     NaN  \n",
       "Radie (meter)                         NaN  \n",
       "Event ID                              NaN  \n",
       "\n",
       "[94 rows x 5 columns]"
      ]
     },
     "execution_count": 2,
     "metadata": {},
     "output_type": "execute_result"
    }
   ],
   "source": [
    "dataframes[\"111\"].head().T"
   ]
  },
  {
   "cell_type": "code",
   "execution_count": 3,
   "metadata": {},
   "outputs": [],
   "source": [
    "test = dataframes[\"111\"]"
   ]
  },
  {
   "cell_type": "code",
   "execution_count": 4,
   "metadata": {},
   "outputs": [
    {
     "name": "stdout",
     "output_type": "stream",
     "text": [
      "Successfully combined all DataFrames into one.\n"
     ]
    }
   ],
   "source": [
    "# Combine all DataFrames in the dictionary into a single DataFrame\n",
    "try:\n",
    "    combined_dataframe = pd.concat(dataframes.values(), ignore_index=True)\n",
    "    print(\"Successfully combined all DataFrames into one.\")\n",
    "except Exception as e:\n",
    "    print(f\"Error combining DataFrames: {e}\")"
   ]
  },
  {
   "cell_type": "code",
   "execution_count": 5,
   "metadata": {},
   "outputs": [],
   "source": [
    "# save the combined into an excel file\n",
    "combined_dataframe.to_excel(\"RPM Rälslitage i kurva - combined.xlsx\", index=False)"
   ]
  }
 ],
 "metadata": {
  "kernelspec": {
   "display_name": "Python 3",
   "language": "python",
   "name": "python3"
  },
  "language_info": {
   "codemirror_mode": {
    "name": "ipython",
    "version": 3
   },
   "file_extension": ".py",
   "mimetype": "text/x-python",
   "name": "python",
   "nbconvert_exporter": "python",
   "pygments_lexer": "ipython3",
   "version": "3.9.5"
  }
 },
 "nbformat": 4,
 "nbformat_minor": 2
}
