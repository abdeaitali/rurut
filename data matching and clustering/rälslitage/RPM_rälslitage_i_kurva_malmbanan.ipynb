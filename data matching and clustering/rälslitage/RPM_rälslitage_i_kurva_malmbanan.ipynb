{
 "cells": [
  {
   "cell_type": "markdown",
   "metadata": {},
   "source": [
    "# Combining data on degradation of curves in Malmbanan."
   ]
  },
  {
   "cell_type": "markdown",
   "metadata": {},
   "source": [
    "We start by reading data from all the bandelar 111, 113, 116-119 with filenames in the form of RPM Rälslitage i kurva_111.csv. We then combine them into one dataframe."
   ]
  },
  {
   "cell_type": "code",
   "execution_count": 1,
   "metadata": {},
   "outputs": [
    {
     "name": "stdout",
     "output_type": "stream",
     "text": [
      "Successfully loaded RPM Rälslitage i kurva_111.csv\n",
      "Successfully loaded RPM Rälslitage i kurva_113.csv\n",
      "Successfully loaded RPM Rälslitage i kurva_116.csv\n",
      "Successfully loaded RPM Rälslitage i kurva_117.csv\n",
      "Successfully loaded RPM Rälslitage i kurva_118.csv\n",
      "Successfully loaded RPM Rälslitage i kurva_119.csv\n"
     ]
    }
   ],
   "source": [
    "import pandas as pd\n",
    "import glob\n",
    "import os\n",
    "\n",
    "# Step 1: Define the file pattern for the specific bandel\n",
    "file_pattern = \"RPM Rälslitage i kurva_111.csv RPM Rälslitage i kurva_113.csv RPM Rälslitage i kurva_116.csv RPM Rälslitage i kurva_117.csv RPM Rälslitage i kurva_118.csv RPM Rälslitage i kurva_119.csv\"\n",
    "\n",
    "# Correct the file pattern to use a proper glob pattern\n",
    "file_pattern = \"RPM Rälslitage i kurva_*.csv\"\n",
    "\n",
    "# Step 2: Read all files matching the pattern\n",
    "file_list = glob.glob(file_pattern)\n",
    "\n",
    "# Step 3: Create a list to hold the DataFrames\n",
    "dataframes = []\n",
    "\n",
    "\n",
    "# Function to convert comma to dot in numeric columns\n",
    "def convert_comma_to_dot(df):\n",
    "    # Iterate through all columns\n",
    "    for col in df.select_dtypes(include=['object']).columns:\n",
    "        try:\n",
    "            # Try to convert column, replacing comma with dot\n",
    "            df[col] = df[col].str.replace(',', '.', regex=False)\n",
    "            \n",
    "            # Try to convert to numeric, coercing errors to NaN\n",
    "            numeric_col = pd.to_numeric(df[col], errors='coerce')\n",
    "            \n",
    "            # If conversion is successful, replace the column\n",
    "            if not numeric_col.isna().all():\n",
    "                df[col] = numeric_col\n",
    "        except Exception as e:\n",
    "            print(f\"Could not convert column {col}: {e}\")\n",
    "    \n",
    "    return df\n",
    "\n",
    "\n",
    "# Read files\n",
    "for file in file_list:\n",
    "    try:\n",
    "        # Read CSV with semicolon delimiter\n",
    "        df = pd.read_csv(file, delimiter=';', encoding='ISO-8859-1')\n",
    "        \n",
    "        # Convert comma to dot in numeric columns\n",
    "        df = convert_comma_to_dot(df)\n",
    "        \n",
    "        if not df.empty:\n",
    "            dataframes.append(df)\n",
    "            print(f\"Successfully loaded {file}\")\n",
    "    except Exception as e:\n",
    "        print(f\"Error reading {file}: {e}\")\n",
    "\n",
    "# Check if any dataframes were loaded\n",
    "if not dataframes:\n",
    "    print(\"No files were successfully loaded. Please check the file pattern and file locations.\")\n",
    "    exit()"
   ]
  },
  {
   "cell_type": "markdown",
   "metadata": {},
   "source": [
    "Combine all the bandelar in one dataframe."
   ]
  },
  {
   "cell_type": "code",
   "execution_count": 2,
   "metadata": {},
   "outputs": [],
   "source": [
    "# Step 5: Combine all DataFrames into one\n",
    "combined_df = pd.concat(dataframes, ignore_index=True)"
   ]
  },
  {
   "cell_type": "markdown",
   "metadata": {},
   "source": [
    "We need to process some columns to get correct format of info."
   ]
  },
  {
   "cell_type": "code",
   "execution_count": 3,
   "metadata": {},
   "outputs": [],
   "source": [
    "import re\n",
    "\n",
    "# Function to extract position from location string\n",
    "def extract_position(value):\n",
    "    \"\"\"Extract numeric value from Startläge/Slutläge.\"\"\"\n",
    "    if pd.isna(value):\n",
    "        return None\n",
    "    \n",
    "    # Replace comma with dot for consistent parsing\n",
    "    value = str(value).replace(',', '.')\n",
    "    \n",
    "    position = re.search(r'(\\d+)(\\s*\\+\\s*)(\\d+)', value)\n",
    "    if position:\n",
    "        return int(position.group(1))*1000 + int(position.group(3))  # Convert to meters\n",
    "    return None\n",
    "\n",
    "# Function to extract measurement date\n",
    "def extract_measurement_date(value):\n",
    "    \"\"\"Extract date and time from Mätning Spårvidd.\"\"\"\n",
    "    if pd.isna(value):\n",
    "        return None\n",
    "    \n",
    "    match = re.search(r'SPL_(\\d{6})(\\d{4})', str(value))\n",
    "    if match:\n",
    "        date = match.group(1)  # e.g., 150727\n",
    "        time = match.group(2)  # e.g., 0844\n",
    "        formatted_date = f\"20{date[:2]}-{date[2:4]}-{date[4:]} {time[:2]}:{time[2:]}\"\n",
    "        return formatted_date\n",
    "    return None\n",
    "\n",
    "# Data Processing\n",
    "def process_dataframe(df):\n",
    "    # Create an explicit copy to avoid SettingWithCopyWarning\n",
    "    processed_df = df.copy()\n",
    "    \n",
    "    # Remove rows with missing gauge widening measurement\n",
    "    processed_df = processed_df[processed_df['Mätning Spårvidd'].notna()].copy()\n",
    "    \n",
    "    # Position extraction using .loc\n",
    "    processed_df.loc[:, 'Start_m'] = processed_df['Startläge'].apply(extract_position)\n",
    "    processed_df.loc[:, 'End_m'] = processed_df['Slutläge'].apply(extract_position)\n",
    "    \n",
    "    # Calculate length\n",
    "    processed_df.loc[:, 'length'] = abs(processed_df['End_m'] - processed_df['Start_m'])\n",
    "    \n",
    "    # Extract measurement date\n",
    "    processed_df.loc[:, 'Measurement Date'] = processed_df['Mätning Spårvidd'].apply(extract_measurement_date)\n",
    "    \n",
    "    # Drop intermediate position columns\n",
    "    processed_df.drop(['Start_m', 'End_m'], axis=1, inplace=True)\n",
    "    \n",
    "    return processed_df\n",
    "\n",
    "# Process the combined DataFrame\n",
    "processed_df = process_dataframe(combined_df)\n",
    "\n",
    "# Remove columns with all empty values\n",
    "processed_df = processed_df.dropna(axis=1, how='all')"
   ]
  },
  {
   "cell_type": "markdown",
   "metadata": {},
   "source": [
    "We remove the following columns (no additional info).\n",
    "- Event Category\n",
    "- Event Type\n",
    "- Räl Beskrivning Yttersträng \n",
    "- Räl Beskrivning Innersträng\n",
    "- _Skapat_av\n",
    "- Skriptnamn\n",
    "- Mätvagn"
   ]
  },
  {
   "cell_type": "code",
   "execution_count": 4,
   "metadata": {},
   "outputs": [],
   "source": [
    "# Columns to remove\n",
    "columns_to_remove = [\n",
    "    'Event Category', 'Event Type', 'Räl Beskrivning Yttersträng', \n",
    "    'Räl Beskrivning Innersträng', '_Skapat_av', 'Skriptnamn', 'Mätvagn'\n",
    "]\n",
    "\n",
    "# Drop the specified columns if they exist in the DataFrame\n",
    "processed_df= processed_df.drop(columns=[col for col in columns_to_remove], errors='ignore')"
   ]
  },
  {
   "cell_type": "markdown",
   "metadata": {},
   "source": [
    "We can now export the combined cleaned dataframe to one excel file with different thematic sheets for further visualisation in Power BI."
   ]
  },
  {
   "cell_type": "code",
   "execution_count": 5,
   "metadata": {},
   "outputs": [],
   "source": [
    "# Step 6: Export the combined DataFrame to a single Excel sheet\n",
    "output_file = 'combined_data.xlsx'\n",
    "processed_df.to_excel(output_file, sheet_name='All Data', index=False)"
   ]
  }
 ],
 "metadata": {
  "kernelspec": {
   "display_name": "Python 3",
   "language": "python",
   "name": "python3"
  },
  "language_info": {
   "codemirror_mode": {
    "name": "ipython",
    "version": 3
   },
   "file_extension": ".py",
   "mimetype": "text/x-python",
   "name": "python",
   "nbconvert_exporter": "python",
   "pygments_lexer": "ipython3",
   "version": "3.9.5"
  }
 },
 "nbformat": 4,
 "nbformat_minor": 2
}
