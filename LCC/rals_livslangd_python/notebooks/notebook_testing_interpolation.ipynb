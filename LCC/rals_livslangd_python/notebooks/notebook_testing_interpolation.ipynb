{
 "cells": [
  {
   "cell_type": "markdown",
   "id": "3364035c",
   "metadata": {},
   "source": [
    "## Vinnova - Maintenance tables\n",
    "\n",
    "Notebook to test the main program.\n",
    "\n",
    "Version 0.1 (2025-04-28): initial conversion from Matlab."
   ]
  },
  {
   "cell_type": "markdown",
   "id": "6477d1c8",
   "metadata": {},
   "source": [
    "## Setting parameters"
   ]
  },
  {
   "cell_type": "code",
   "execution_count": 1,
   "id": "b6881d88",
   "metadata": {},
   "outputs": [],
   "source": [
    "import pandas as pd # type: ignore\n",
    "import seaborn as sns # type: ignore\n",
    "import matplotlib.pyplot as plt # type: ignore"
   ]
  },
  {
   "cell_type": "code",
   "execution_count": 4,
   "id": "a45f125b",
   "metadata": {},
   "outputs": [],
   "source": [
    "# Define the tonnage\n",
    "tonnage = \"H_32t\"  # Standard axle load (30 tons), alternatively \"H_32t\" for heavy axle load (32.5 tons)\n",
    "\n",
    "# Define the rail profile\n",
    "rail_profile = \"MB5\"  # MB5 or MB6\n",
    "\n",
    "# The actual path to your Excel file\n",
    "file_path = '../data/raw/raw_data_structured.csv'"
   ]
  },
  {
   "cell_type": "markdown",
   "id": "ce303095",
   "metadata": {},
   "source": [
    "## Reading input data"
   ]
  },
  {
   "cell_type": "code",
   "execution_count": 5,
   "id": "9468df84",
   "metadata": {},
   "outputs": [],
   "source": [
    "# Ensure the preprocessings module is accessible\n",
    "import sys\n",
    "sys.path.append('../')  # Adjust the path to the root directory containing 'preprocessings'\n",
    "\n",
    "# Import the function to read the input data\n",
    "from preprocessings.read_input_data import read_input_data\n",
    "\n",
    "# Call the function to read the data\n",
    "data_df = read_input_data(file_path)"
   ]
  },
  {
   "cell_type": "code",
   "execution_count": 7,
   "id": "78eacaa1",
   "metadata": {},
   "outputs": [
    {
     "data": {
      "application/vnd.microsoft.datawrangler.viewer.v0+json": {
       "columns": [
        {
         "name": "index",
         "rawType": "int64",
         "type": "integer"
        },
        {
         "name": "Profile",
         "rawType": "object",
         "type": "string"
        },
        {
         "name": "Condition",
         "rawType": "object",
         "type": "string"
        },
        {
         "name": "Gauge",
         "rawType": "int64",
         "type": "integer"
        },
        {
         "name": "Month",
         "rawType": "int32",
         "type": "integer"
        },
        {
         "name": "Value",
         "rawType": "float64",
         "type": "float"
        }
       ],
       "conversionMethod": "pd.DataFrame",
       "ref": "280c8b40-7be2-41fa-8ece-75c0106dc5b8",
       "rows": [
        [
         "0",
         "MB5",
         "H-index",
         "1440",
         "1",
         "0.53"
        ],
        [
         "1",
         "MB5",
         "H-index",
         "1445",
         "1",
         "0.53"
        ],
        [
         "2",
         "MB5",
         "H-index",
         "1450",
         "1",
         "0.53"
        ],
        [
         "3",
         "MB5",
         "H-index",
         "1455",
         "1",
         "0.53"
        ],
        [
         "4",
         "MB6",
         "H-index",
         "1450",
         "1",
         "0.53"
        ],
        [
         "5",
         "MB6",
         "H-index",
         "1455",
         "1",
         "0.53"
        ],
        [
         "6",
         "MB5",
         "Wear",
         "1440",
         "1",
         "0.048"
        ],
        [
         "7",
         "MB5",
         "Wear",
         "1445",
         "1",
         "0.066"
        ],
        [
         "8",
         "MB5",
         "Wear",
         "1450",
         "1",
         "0.038"
        ],
        [
         "9",
         "MB5",
         "Wear",
         "1455",
         "1",
         "0.053"
        ],
        [
         "10",
         "MB6",
         "Wear",
         "1450",
         "1",
         "0.035"
        ],
        [
         "11",
         "MB6",
         "Wear",
         "1455",
         "1",
         "0.048"
        ],
        [
         "12",
         "MB5",
         "RCF-residual",
         "1440",
         "1",
         "0.0"
        ],
        [
         "13",
         "MB5",
         "RCF-residual",
         "1445",
         "1",
         "0.0"
        ],
        [
         "14",
         "MB5",
         "RCF-residual",
         "1450",
         "1",
         "0.0"
        ],
        [
         "15",
         "MB5",
         "RCF-residual",
         "1455",
         "1",
         "0.0"
        ],
        [
         "16",
         "MB6",
         "RCF-residual",
         "1450",
         "1",
         "0.0"
        ],
        [
         "17",
         "MB6",
         "RCF-residual",
         "1455",
         "1",
         "0.0"
        ],
        [
         "18",
         "MB5",
         "RCF-depth",
         "1440",
         "1",
         "0.009"
        ],
        [
         "19",
         "MB5",
         "RCF-depth",
         "1445",
         "1",
         "0.0116"
        ],
        [
         "20",
         "MB5",
         "RCF-depth",
         "1450",
         "1",
         "0.0272"
        ],
        [
         "21",
         "MB5",
         "RCF-depth",
         "1455",
         "1",
         "0.0328"
        ],
        [
         "22",
         "MB6",
         "RCF-depth",
         "1450",
         "1",
         "0.015"
        ],
        [
         "23",
         "MB6",
         "RCF-depth",
         "1455",
         "1",
         "0.0298"
        ],
        [
         "24",
         "MB5",
         "H-index",
         "1440",
         "2",
         "0.53"
        ],
        [
         "25",
         "MB5",
         "H-index",
         "1445",
         "2",
         "0.53"
        ],
        [
         "26",
         "MB5",
         "H-index",
         "1450",
         "2",
         "0.53"
        ],
        [
         "27",
         "MB5",
         "H-index",
         "1455",
         "2",
         "0.53"
        ],
        [
         "28",
         "MB6",
         "H-index",
         "1450",
         "2",
         "0.53"
        ],
        [
         "29",
         "MB6",
         "H-index",
         "1455",
         "2",
         "0.53"
        ],
        [
         "30",
         "MB5",
         "Wear",
         "1440",
         "2",
         "0.059"
        ],
        [
         "31",
         "MB5",
         "Wear",
         "1445",
         "2",
         "0.079"
        ],
        [
         "32",
         "MB5",
         "Wear",
         "1450",
         "2",
         "0.064"
        ],
        [
         "33",
         "MB5",
         "Wear",
         "1455",
         "2",
         "0.07"
        ],
        [
         "34",
         "MB6",
         "Wear",
         "1450",
         "2",
         "0.042"
        ],
        [
         "35",
         "MB6",
         "Wear",
         "1455",
         "2",
         "0.062"
        ],
        [
         "36",
         "MB5",
         "RCF-residual",
         "1440",
         "2",
         "0.0"
        ],
        [
         "37",
         "MB5",
         "RCF-residual",
         "1445",
         "2",
         "0.0"
        ],
        [
         "38",
         "MB5",
         "RCF-residual",
         "1450",
         "2",
         "0.0"
        ],
        [
         "39",
         "MB5",
         "RCF-residual",
         "1455",
         "2",
         "0.0"
        ],
        [
         "40",
         "MB6",
         "RCF-residual",
         "1450",
         "2",
         "0.0"
        ],
        [
         "41",
         "MB6",
         "RCF-residual",
         "1455",
         "2",
         "0.0"
        ],
        [
         "42",
         "MB5",
         "RCF-depth",
         "1440",
         "2",
         "0.0204"
        ],
        [
         "43",
         "MB5",
         "RCF-depth",
         "1445",
         "2",
         "0.0232"
        ],
        [
         "44",
         "MB5",
         "RCF-depth",
         "1450",
         "2",
         "0.0474"
        ],
        [
         "45",
         "MB5",
         "RCF-depth",
         "1455",
         "2",
         "0.0646"
        ],
        [
         "46",
         "MB6",
         "RCF-depth",
         "1450",
         "2",
         "0.0334"
        ],
        [
         "47",
         "MB6",
         "RCF-depth",
         "1455",
         "2",
         "0.0693"
        ],
        [
         "48",
         "MB5",
         "H-index",
         "1440",
         "3",
         "0.53"
        ],
        [
         "49",
         "MB5",
         "H-index",
         "1445",
         "3",
         "0.53"
        ]
       ],
       "shape": {
        "columns": 5,
        "rows": 288
       }
      },
      "text/html": [
       "<div>\n",
       "<style scoped>\n",
       "    .dataframe tbody tr th:only-of-type {\n",
       "        vertical-align: middle;\n",
       "    }\n",
       "\n",
       "    .dataframe tbody tr th {\n",
       "        vertical-align: top;\n",
       "    }\n",
       "\n",
       "    .dataframe thead th {\n",
       "        text-align: right;\n",
       "    }\n",
       "</style>\n",
       "<table border=\"1\" class=\"dataframe\">\n",
       "  <thead>\n",
       "    <tr style=\"text-align: right;\">\n",
       "      <th></th>\n",
       "      <th>Profile</th>\n",
       "      <th>Condition</th>\n",
       "      <th>Gauge</th>\n",
       "      <th>Month</th>\n",
       "      <th>Value</th>\n",
       "    </tr>\n",
       "  </thead>\n",
       "  <tbody>\n",
       "    <tr>\n",
       "      <th>0</th>\n",
       "      <td>MB5</td>\n",
       "      <td>H-index</td>\n",
       "      <td>1440</td>\n",
       "      <td>1</td>\n",
       "      <td>0.5300</td>\n",
       "    </tr>\n",
       "    <tr>\n",
       "      <th>1</th>\n",
       "      <td>MB5</td>\n",
       "      <td>H-index</td>\n",
       "      <td>1445</td>\n",
       "      <td>1</td>\n",
       "      <td>0.5300</td>\n",
       "    </tr>\n",
       "    <tr>\n",
       "      <th>2</th>\n",
       "      <td>MB5</td>\n",
       "      <td>H-index</td>\n",
       "      <td>1450</td>\n",
       "      <td>1</td>\n",
       "      <td>0.5300</td>\n",
       "    </tr>\n",
       "    <tr>\n",
       "      <th>3</th>\n",
       "      <td>MB5</td>\n",
       "      <td>H-index</td>\n",
       "      <td>1455</td>\n",
       "      <td>1</td>\n",
       "      <td>0.5300</td>\n",
       "    </tr>\n",
       "    <tr>\n",
       "      <th>4</th>\n",
       "      <td>MB6</td>\n",
       "      <td>H-index</td>\n",
       "      <td>1450</td>\n",
       "      <td>1</td>\n",
       "      <td>0.5300</td>\n",
       "    </tr>\n",
       "    <tr>\n",
       "      <th>...</th>\n",
       "      <td>...</td>\n",
       "      <td>...</td>\n",
       "      <td>...</td>\n",
       "      <td>...</td>\n",
       "      <td>...</td>\n",
       "    </tr>\n",
       "    <tr>\n",
       "      <th>283</th>\n",
       "      <td>MB5</td>\n",
       "      <td>RCF-depth</td>\n",
       "      <td>1445</td>\n",
       "      <td>12</td>\n",
       "      <td>0.5234</td>\n",
       "    </tr>\n",
       "    <tr>\n",
       "      <th>284</th>\n",
       "      <td>MB5</td>\n",
       "      <td>RCF-depth</td>\n",
       "      <td>1450</td>\n",
       "      <td>12</td>\n",
       "      <td>0.9234</td>\n",
       "    </tr>\n",
       "    <tr>\n",
       "      <th>285</th>\n",
       "      <td>MB5</td>\n",
       "      <td>RCF-depth</td>\n",
       "      <td>1455</td>\n",
       "      <td>12</td>\n",
       "      <td>1.2440</td>\n",
       "    </tr>\n",
       "    <tr>\n",
       "      <th>286</th>\n",
       "      <td>MB6</td>\n",
       "      <td>RCF-depth</td>\n",
       "      <td>1450</td>\n",
       "      <td>12</td>\n",
       "      <td>0.8339</td>\n",
       "    </tr>\n",
       "    <tr>\n",
       "      <th>287</th>\n",
       "      <td>MB6</td>\n",
       "      <td>RCF-depth</td>\n",
       "      <td>1455</td>\n",
       "      <td>12</td>\n",
       "      <td>1.5158</td>\n",
       "    </tr>\n",
       "  </tbody>\n",
       "</table>\n",
       "<p>288 rows × 5 columns</p>\n",
       "</div>"
      ],
      "text/plain": [
       "    Profile  Condition  Gauge  Month   Value\n",
       "0       MB5    H-index   1440      1  0.5300\n",
       "1       MB5    H-index   1445      1  0.5300\n",
       "2       MB5    H-index   1450      1  0.5300\n",
       "3       MB5    H-index   1455      1  0.5300\n",
       "4       MB6    H-index   1450      1  0.5300\n",
       "..      ...        ...    ...    ...     ...\n",
       "283     MB5  RCF-depth   1445     12  0.5234\n",
       "284     MB5  RCF-depth   1450     12  0.9234\n",
       "285     MB5  RCF-depth   1455     12  1.2440\n",
       "286     MB6  RCF-depth   1450     12  0.8339\n",
       "287     MB6  RCF-depth   1455     12  1.5158\n",
       "\n",
       "[288 rows x 5 columns]"
      ]
     },
     "execution_count": 7,
     "metadata": {},
     "output_type": "execute_result"
    }
   ],
   "source": [
    "data_df"
   ]
  },
  {
   "cell_type": "code",
   "execution_count": 9,
   "id": "58643501",
   "metadata": {},
   "outputs": [
    {
     "name": "stdout",
     "output_type": "stream",
     "text": [
      "\n",
      "--- Test get_h_index() ---\n",
      "\n",
      "(a) Get H-index for MB5, Gauge 1440:\n"
     ]
    },
    {
     "name": "stdout",
     "output_type": "stream",
     "text": [
      "Empty DataFrame\n",
      "Columns: []\n",
      "Index: [(1440, 1), (1440, 2), (1440, 3), (1440, 4), (1440, 5), (1440, 6), (1440, 7), (1440, 8), (1440, 9), (1440, 10), (1440, 11), (1440, 12)]\n",
      "\n",
      "(b) Get all H-index values for MB5 (all gauges):\n",
      "Empty DataFrame\n",
      "Columns: []\n",
      "Index: [(1440, 1), (1445, 1), (1450, 1), (1455, 1), (1440, 2), (1445, 2), (1450, 2), (1455, 2), (1440, 3), (1445, 3), (1450, 3), (1455, 3), (1440, 4), (1445, 4), (1450, 4), (1455, 4), (1440, 5), (1445, 5), (1450, 5), (1455, 5), (1440, 6), (1445, 6), (1450, 6), (1455, 6), (1440, 7), (1445, 7), (1450, 7), (1455, 7), (1440, 8), (1445, 8), (1450, 8), (1455, 8), (1440, 9), (1445, 9), (1450, 9), (1455, 9), (1440, 10), (1445, 10), (1450, 10), (1455, 10), (1440, 11), (1445, 11), (1450, 11), (1455, 11), (1440, 12), (1445, 12), (1450, 12), (1455, 12)]\n",
      "\n",
      "--- Test get_wear_data() ---\n",
      "\n",
      "(a) Get Wear data for MB6, Gauge 1450:\n",
      "Empty DataFrame\n",
      "Columns: []\n",
      "Index: [(1450, 1), (1450, 2), (1450, 3), (1450, 4), (1450, 5), (1450, 6), (1450, 7), (1450, 8), (1450, 9), (1450, 10), (1450, 11), (1450, 12)]\n",
      "\n",
      "(b) Get all Wear data for MB6 (all gauges):\n",
      "Empty DataFrame\n",
      "Columns: []\n",
      "Index: [(1450, 1), (1455, 1), (1450, 2), (1455, 2), (1450, 3), (1455, 3), (1450, 4), (1455, 4), (1450, 5), (1455, 5), (1450, 6), (1455, 6), (1450, 7), (1455, 7), (1450, 8), (1455, 8), (1450, 9), (1455, 9), (1450, 10), (1455, 10), (1450, 11), (1455, 11), (1450, 12), (1455, 12)]\n",
      "\n",
      "--- Test get_rcf_residual() ---\n",
      "\n",
      "(a) Get RCF-residual data for MB5, Gauge 1445\n",
      "Empty DataFrame\n",
      "Columns: []\n",
      "Index: [(1445, 1), (1445, 2), (1445, 3), (1445, 4), (1445, 5), (1445, 6), (1445, 7), (1445, 8), (1445, 9), (1445, 10), (1445, 11), (1445, 12)]\n",
      "\n",
      "(b) Get all RCF-residual data for MB5 (all gauges)\n",
      "Empty DataFrame\n",
      "Columns: []\n",
      "Index: [(1440, 1), (1445, 1), (1450, 1), (1455, 1), (1440, 2), (1445, 2), (1450, 2), (1455, 2), (1440, 3), (1445, 3), (1450, 3), (1455, 3), (1440, 4), (1445, 4), (1450, 4), (1455, 4), (1440, 5), (1445, 5), (1450, 5), (1455, 5), (1440, 6), (1445, 6), (1450, 6), (1455, 6), (1440, 7), (1445, 7), (1450, 7), (1455, 7), (1440, 8), (1445, 8), (1450, 8), (1455, 8), (1440, 9), (1445, 9), (1450, 9), (1455, 9), (1440, 10), (1445, 10), (1450, 10), (1455, 10), (1440, 11), (1445, 11), (1450, 11), (1455, 11), (1440, 12), (1445, 12), (1450, 12), (1455, 12)]\n",
      "\n",
      "--- Test get_rcf_depth() ---\n",
      "\n",
      "(a) Get RCF-depth data for MB6, Gauge 1455\n",
      "Empty DataFrame\n",
      "Columns: []\n",
      "Index: [(1455, 1), (1455, 2), (1455, 3), (1455, 4), (1455, 5), (1455, 6), (1455, 7), (1455, 8), (1455, 9), (1455, 10), (1455, 11), (1455, 12)]\n",
      "\n",
      "(b) Get all RCF-depth data for MB6 (all gauges)\n",
      "Empty DataFrame\n",
      "Columns: []\n",
      "Index: [(1450, 1), (1455, 1), (1450, 2), (1455, 2), (1450, 3), (1455, 3), (1450, 4), (1455, 4), (1450, 5), (1455, 5), (1450, 6), (1455, 6), (1450, 7), (1455, 7), (1450, 8), (1455, 8), (1450, 9), (1455, 9), (1450, 10), (1455, 10), (1450, 11), (1455, 11), (1450, 12), (1455, 12)]\n"
     ]
    }
   ],
   "source": [
    "from rail_analysis.rail_measures import get_h_index, get_wear_data, get_rcf_residual, get_rcf_depth\n",
    "\n",
    "# Check if the data was loaded successfully\n",
    "if data_df is None:\n",
    "    print(\"Failed to load data. Please check the file path and format.\")\n",
    "else:\n",
    "    # 2. Test get_h_index()\n",
    "    print(\"\\n--- Test get_h_index() ---\")\n",
    "    print(\"\\n(a) Get H-index for MB5, Gauge 1440:\")\n",
    "    h_index_mb5_1440 = get_h_index(data_df, 'MB5', 1440)\n",
    "    if h_index_mb5_1440 is not None:\n",
    "        print(h_index_mb5_1440)\n",
    "    else:\n",
    "        print(\"No data found.\")\n",
    "\n",
    "    print(\"\\n(b) Get all H-index values for MB5 (all gauges):\")\n",
    "    h_index_mb5_all = get_h_index(data_df, 'MB5')\n",
    "    if h_index_mb5_all is not None:\n",
    "        print(h_index_mb5_all)\n",
    "    else:\n",
    "        print(\"No data found.\")\n",
    "\n",
    "    # 3. Test get_wear_data()\n",
    "    print(\"\\n--- Test get_wear_data() ---\")\n",
    "    print(\"\\n(a) Get Wear data for MB6, Gauge 1450:\")\n",
    "    wear_mb6_1450 = get_wear_data(data_df, 'MB6', 1450)\n",
    "    if wear_mb6_1450 is not None:\n",
    "        print(wear_mb6_1450)\n",
    "    else:\n",
    "        print(\"No data found.\")\n",
    "\n",
    "    print(\"\\n(b) Get all Wear data for MB6 (all gauges):\")\n",
    "    wear_mb6_all = get_wear_data(data_df, 'MB6')\n",
    "    if wear_mb6_all is not None:\n",
    "        print(wear_mb6_all)\n",
    "    else:\n",
    "        print(\"No data found.\")\n",
    "\n",
    "    # 4. Test get_rcf_residual()\n",
    "    print(\"\\n--- Test get_rcf_residual() ---\")\n",
    "    print(\"\\n(a) Get RCF-residual data for MB5, Gauge 1445\")\n",
    "    rcf_residual_mb5_1445 = get_rcf_residual(data_df, 'MB5', 1445)\n",
    "    if rcf_residual_mb5_1445 is not None:\n",
    "        print(rcf_residual_mb5_1445)\n",
    "    else:\n",
    "        print(\"No data found.\")\n",
    "\n",
    "    print(\"\\n(b) Get all RCF-residual data for MB5 (all gauges)\")\n",
    "    rcf_residual_mb5_all = get_rcf_residual(data_df, 'MB5')\n",
    "    if rcf_residual_mb5_all is not None:\n",
    "        print(rcf_residual_mb5_all)\n",
    "    else:\n",
    "        print(\"No data found.\")\n",
    "\n",
    "    # 5. Test get_rcf_depth()\n",
    "    print(\"\\n--- Test get_rcf_depth() ---\")\n",
    "    print(\"\\n(a) Get RCF-depth data for MB6, Gauge 1455\")\n",
    "    rcf_depth_mb6_1455 = get_rcf_depth(data_df, 'MB6', 1455)\n",
    "    if rcf_depth_mb6_1455 is not None:\n",
    "        print(rcf_depth_mb6_1455)\n",
    "    else:\n",
    "        print(\"No data found.\")\n",
    "\n",
    "    print(\"\\n(b) Get all RCF-depth data for MB6 (all gauges)\")\n",
    "    rcf_depth_mb6_all = get_rcf_depth(data_df, 'MB6')\n",
    "    if rcf_depth_mb6_all is not None:\n",
    "        print(rcf_depth_mb6_all)\n",
    "    else:\n",
    "        print(\"No data found.\")\n"
   ]
  }
 ],
 "metadata": {
  "kernelspec": {
   "display_name": "Python 3",
   "language": "python",
   "name": "python3"
  },
  "language_info": {
   "codemirror_mode": {
    "name": "ipython",
    "version": 3
   },
   "file_extension": ".py",
   "mimetype": "text/x-python",
   "name": "python",
   "nbconvert_exporter": "python",
   "pygments_lexer": "ipython3",
   "version": "3.9.5"
  }
 },
 "nbformat": 4,
 "nbformat_minor": 5
}
