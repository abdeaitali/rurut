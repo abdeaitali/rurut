{
 "cells": [
  {
   "cell_type": "markdown",
   "id": "d1601991",
   "metadata": {},
   "source": [
    "# Notebook for testing LCA calculations"
   ]
  },
  {
   "cell_type": "markdown",
   "id": "8adb217f",
   "metadata": {},
   "source": [
    "Log\n",
    "2025-05-12: initial version"
   ]
  },
  {
   "cell_type": "markdown",
   "id": "93cebfa5",
   "metadata": {},
   "source": [
    "We first define the function we want to test"
   ]
  },
  {
   "cell_type": "code",
   "execution_count": 2,
   "id": "15b93359",
   "metadata": {},
   "outputs": [
    {
     "name": "stdout",
     "output_type": "stream",
     "text": [
      "18659706.62\n"
     ]
    }
   ],
   "source": [
    "# Ensure the preprocessings module is accessible\n",
    "import sys\n",
    "sys.path.append('../')  # Adjust the path to the root directory containing 'preprocessings'\n",
    "\n",
    "from rail_analysis.LCA import get_LCA_renewal\n",
    "\n",
    "# Call the function get_LCA_renewal\n",
    "track_length = 1000  # Example track length in meters\n",
    "result = get_LCA_renewal(track_length, 'Track')\n",
    "\n",
    "print(result)"
   ]
  }
 ],
 "metadata": {
  "kernelspec": {
   "display_name": "Python 3",
   "language": "python",
   "name": "python3"
  },
  "language_info": {
   "codemirror_mode": {
    "name": "ipython",
    "version": 3
   },
   "file_extension": ".py",
   "mimetype": "text/x-python",
   "name": "python",
   "nbconvert_exporter": "python",
   "pygments_lexer": "ipython3",
   "version": "3.9.5"
  }
 },
 "nbformat": 4,
 "nbformat_minor": 5
}
